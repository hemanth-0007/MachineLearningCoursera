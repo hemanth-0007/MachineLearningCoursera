{
 "cells": [
  {
   "cell_type": "code",
   "execution_count": 2,
   "id": "186999e3-5b8f-4e28-8aea-68399caabf18",
   "metadata": {},
   "outputs": [
    {
     "name": "stdout",
     "output_type": "stream",
     "text": [
      "Hello\n"
     ]
    }
   ],
   "source": [
    "print(\"Hello\")"
   ]
  },
  {
   "cell_type": "code",
   "execution_count": null,
   "id": "bb6b3ea6-b360-451b-a86a-388458f19020",
   "metadata": {},
   "outputs": [],
   "source": [
    "from sympy import *"
   ]
  },
  {
   "cell_type": "code",
   "execution_count": null,
   "id": "6e7a914c-5ba1-4f8d-83a7-efda3ff02ae7",
   "metadata": {},
   "outputs": [],
   "source": [
    "J, w, x= sympy.symbols('J,w')"
   ]
  },
  {
   "cell_type": "code",
   "execution_count": null,
   "id": "3c7342d6-2bdb-4a83-8670-46f7909a7d0d",
   "metadata": {},
   "outputs": [],
   "source": [
    "J = w**3 + w**10\n",
    "J"
   ]
  },
  {
   "cell_type": "code",
   "execution_count": 61,
   "id": "b974ddf0-f396-46da-804a-72063759f0e9",
   "metadata": {},
   "outputs": [
    {
     "data": {
      "text/latex": [
       "$\\displaystyle 10 w^{9} + 3 w^{2}$"
      ],
      "text/plain": [
       "10*w**9 + 3*w**2"
      ]
     },
     "execution_count": 61,
     "metadata": {},
     "output_type": "execute_result"
    }
   ],
   "source": [
    "dj_dw = sympy.diff(J, w)\n",
    "dj_dw"
   ]
  },
  {
   "cell_type": "code",
   "execution_count": 62,
   "id": "5628c1de-2e39-4a56-bf08-6170d140c32b",
   "metadata": {},
   "outputs": [
    {
     "data": {
      "text/latex": [
       "$\\displaystyle 5132$"
      ],
      "text/plain": [
       "5132"
      ]
     },
     "execution_count": 62,
     "metadata": {},
     "output_type": "execute_result"
    }
   ],
   "source": [
    "dj_dw.subs([(w,2)])"
   ]
  },
  {
   "cell_type": "code",
   "execution_count": 64,
   "id": "e89ac227-a884-4700-aac7-cb647479cf81",
   "metadata": {},
   "outputs": [],
   "source": [
    "x, y, z = symbols(\"x y z\")"
   ]
  },
  {
   "cell_type": "code",
   "execution_count": 65,
   "id": "9b75f686-85ba-4ba6-8203-2cd1a0c37e59",
   "metadata": {},
   "outputs": [
    {
     "name": "stdout",
     "output_type": "stream",
     "text": [
      "x**(x**(x**x))\n"
     ]
    }
   ],
   "source": [
    "expr = x**y\n",
    "expr = expr.subs(y, x**y)\n",
    "expr = expr.subs(y, x**x)\n",
    "print(expr)"
   ]
  },
  {
   "cell_type": "code",
   "execution_count": null,
   "id": "c6946808-53c9-4171-be56-132ac99d435e",
   "metadata": {},
   "outputs": [],
   "source": []
  },
  {
   "cell_type": "code",
   "execution_count": null,
   "id": "e542d27c-dd94-4346-8121-485d757cfa54",
   "metadata": {},
   "outputs": [],
   "source": []
  }
 ],
 "metadata": {
  "kernelspec": {
   "display_name": "Python 3 (ipykernel)",
   "language": "python",
   "name": "python3"
  },
  "language_info": {
   "codemirror_mode": {
    "name": "ipython",
    "version": 3
   },
   "file_extension": ".py",
   "mimetype": "text/x-python",
   "name": "python",
   "nbconvert_exporter": "python",
   "pygments_lexer": "ipython3",
   "version": "3.12.0"
  }
 },
 "nbformat": 4,
 "nbformat_minor": 5
}
